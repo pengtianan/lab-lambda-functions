{
 "cells": [
  {
   "cell_type": "code",
   "execution_count": 2,
   "metadata": {},
   "outputs": [
    {
     "name": "stdout",
     "output_type": "stream",
     "text": [
      "[(1, 2), (2, 3), (4, 3), (4, 5)]\n"
     ]
    }
   ],
   "source": [
    "list1 = [1,2,4,4]\n",
    "list2 = [2,3,3,5]\n",
    "zipped_list= list(zip(list1,list2))\n",
    "print(zipped_list)\n",
    "\n",
    "\"\"\"\"\n",
    "\n",
    "n this exercise we will try to compare the elements on the same index in the two lists. \n",
    "We want to zip the two lists and then use a lambda expression to compare if: list1 element > list2 element\n",
    "\n",
    "\n",
    "\"\"\"\"\""
   ]
  },
  {
   "cell_type": "code",
   "execution_count": null,
   "metadata": {},
   "outputs": [],
   "source": [
    "def even_iterator(n):\n",
    "    \"\"\"\n",
    "    This function produces an iterator containing \n",
    "    all even numbers between 0 and n.\n",
    "    \n",
    "    Input: Integer\n",
    "    Output: Iterator\n",
    "    \n",
    "    Sample Input: 5\n",
    "    Sample Output: iter([0, 2, 4])\n",
    "    \"\"\"\n",
    "    \n",
    "    # Your code here:\n",
    "    number = 0\n",
    "    lst=[]\n",
    "    for i in range(n):\n",
    "        if i % 2:\n",
    "            lst.append[i]\n",
    "    return iter[lst]\n",
    "        \n",
    "        \n",
    "\n",
    "    \n",
    "    \n",
    "    \n",
    "    def firstn(n):\n",
    "    number = 0\n",
    "    while number < n:\n",
    "        yield number\n",
    "        number = number + 1"
   ]
  },
  {
   "cell_type": "code",
   "execution_count": 38,
   "metadata": {},
   "outputs": [
    {
     "name": "stdout",
     "output_type": "stream",
     "text": [
      "['small', 'big']\n"
     ]
    }
   ],
   "source": [
    "numbers = [1, 2, 3, 4, 5, 6, 18, 20]\n",
    "squares = [\"small\" if number < 10 else \"big\" for number in numbers if number % 2 == 0 if number % 3 == 0]\n",
    "print(squares)"
   ]
  },
  {
   "cell_type": "code",
   "execution_count": 40,
   "metadata": {},
   "outputs": [
    {
     "name": "stdout",
     "output_type": "stream",
     "text": [
      "{'beer': 2, 'fish': 5, 'apple': 1}\n",
      "{'beer': 2.0, 'fish': 5.0, 'apple': 1.0}\n"
     ]
    }
   ],
   "source": [
    "prices = {\"beer\": 2, \"fish\": 5, \"apple\": 1}\n",
    "float_prices = {key:float(value) for key, value in prices.items()}\n",
    "print(prices)\n",
    "print(float_prices)"
   ]
  },
  {
   "cell_type": "code",
   "execution_count": 41,
   "metadata": {},
   "outputs": [
    {
     "name": "stdout",
     "output_type": "stream",
     "text": [
      "{'d', 'a', 'f', 'b', 'e', 'c'}\n"
     ]
    }
   ],
   "source": [
    "x = {\"a\", \"b\", \"c\"}\n",
    "y = {\"f\", \"d\", \"a\"}\n",
    "z = {\"c\", \"d\", \"e\"}\n",
    " \n",
    "result = x.union(y, z)\n",
    " \n",
    "print(result)"
   ]
  },
  {
   "cell_type": "code",
   "execution_count": 42,
   "metadata": {},
   "outputs": [
    {
     "name": "stdout",
     "output_type": "stream",
     "text": [
      "{261, 495, 402, 633, 699}\n"
     ]
    }
   ],
   "source": [
    "import random\n",
    "\n",
    "random_set_1=set(random.sample(range(1000),k=5))\n",
    "print(random_set_1)"
   ]
  },
  {
   "cell_type": "code",
   "execution_count": 44,
   "metadata": {},
   "outputs": [
    {
     "ename": "SyntaxError",
     "evalue": "invalid syntax (<ipython-input-44-1433055e3595>, line 1)",
     "output_type": "error",
     "traceback": [
      "\u001b[1;36m  File \u001b[1;32m\"<ipython-input-44-1433055e3595>\"\u001b[1;36m, line \u001b[1;32m1\u001b[0m\n\u001b[1;33m    sample_list_2=[random.randit(100) for i in range 80]\u001b[0m\n\u001b[1;37m                                                      ^\u001b[0m\n\u001b[1;31mSyntaxError\u001b[0m\u001b[1;31m:\u001b[0m invalid syntax\n"
     ]
    }
   ],
   "source": [
    "sample_list_2=[random.randit(100) for i in range 80]\n",
    "#for i in range(80):\n",
    " #   sample_list_2.append(random.randint(0,100))#\n",
    "print(sample_list_2)"
   ]
  },
  {
   "cell_type": "code",
   "execution_count": 48,
   "metadata": {},
   "outputs": [
    {
     "name": "stdout",
     "output_type": "stream",
     "text": [
      "[11, 1, 1, 10, 11]\n"
     ]
    }
   ],
   "source": [
    "lst1=[]\n",
    "for i in range (5):\n",
    "    lst1.append(random.randint(0,11))\n",
    "print(lst1)"
   ]
  },
  {
   "cell_type": "code",
   "execution_count": 58,
   "metadata": {},
   "outputs": [
    {
     "name": "stdout",
     "output_type": "stream",
     "text": [
      "{1, 10, 11} {0, 1, 2, 3, 9}\n"
     ]
    }
   ],
   "source": [
    "set1=set(lst1)\n",
    "\n",
    "set2=set(random.sample(range(11), k = 5))\n",
    "\n",
    "print(set1,set2)\n",
    "\n"
   ]
  },
  {
   "cell_type": "code",
   "execution_count": 59,
   "metadata": {},
   "outputs": [
    {
     "name": "stdout",
     "output_type": "stream",
     "text": [
      "{0, 1, 2, 3, 9, 10, 11}\n"
     ]
    }
   ],
   "source": [
    "set3=set1.union(set2)\n",
    "\n",
    "print(set3)"
   ]
  },
  {
   "cell_type": "code",
   "execution_count": 61,
   "metadata": {},
   "outputs": [
    {
     "name": "stdout",
     "output_type": "stream",
     "text": [
      "{1}\n"
     ]
    }
   ],
   "source": [
    "set4=set1.intersection(set2)\n",
    "print(set4)"
   ]
  },
  {
   "cell_type": "code",
   "execution_count": 63,
   "metadata": {},
   "outputs": [],
   "source": [
    "word_freq = {'love': 25, 'conversation': 1, 'every': 6, \"we're\": 1, 'plate': 1, 'sour': 1, 'jukebox': 1, 'now': 11, 'taxi': 1, 'fast': 1, 'bag': 1, 'man': 1, 'push': 3, 'baby': 14, 'going': 1, 'you': 16, \"don't\": 2, 'one': 1, 'mind': 2, 'backseat': 1, 'friends': 1, 'then': 3, 'know': 2, 'take': 1, 'play': 1, 'okay': 1, 'so': 2, 'begin': 1, 'start': 2, 'over': 1, 'body': 17, 'boy': 2, 'just': 1, 'we': 7, 'are': 1, 'girl': 2, 'tell': 1, 'singing': 2, 'drinking': 1, 'put': 3, 'our': 1, 'where': 1, \"i'll\": 1, 'all': 1, \"isn't\": 1, 'make': 1, 'lover': 1, 'get': 1, 'radio': 1, 'give': 1, \"i'm\": 23, 'like': 10, 'can': 1, 'doing': 2, 'with': 22, 'club': 1, 'come': 37, 'it': 1, 'somebody': 2, 'handmade': 2, 'out': 1, 'new': 6, 'room': 3, 'chance': 1, 'follow': 6, 'in': 27, 'may': 2, 'brand': 6, 'that': 2, 'magnet': 3, 'up': 3, 'first': 1, 'and': 23, 'pull': 3, 'of': 6, 'table': 1, 'much': 2, 'last': 3, 'i': 6, 'thrifty': 1, 'grab': 2, 'was': 2, 'driver': 1, 'slow': 1, 'dance': 1, 'the': 18, 'say': 2, 'trust': 1, 'family': 1, 'week': 1, 'date': 1, 'me': 10, 'do': 3, 'waist': 2, 'smell': 3, 'day': 6, 'although': 3, 'your': 21, 'leave': 1, 'want': 2, \"let's\": 2, 'lead': 6, 'at': 1, 'hand': 1, 'how': 1, 'talk': 4, 'not': 2, 'eat': 1, 'falling': 3, 'about': 1, 'story': 1, 'sweet': 1, 'best': 1, 'crazy': 2, 'let': 1, 'too': 5, 'van': 1, 'shots': 1, 'go': 2, 'to': 2, 'a': 8, 'my': 33, 'is': 5, 'place': 1, 'find': 1, 'shape': 6, 'on': 40, 'kiss': 1, 'were': 3, 'night': 3, 'heart': 3, 'for': 3, 'discovering': 6, 'something': 6, 'be': 16, 'bedsheets': 3, 'fill': 2, 'hours': 2, 'stop': 1, 'bar': 1}"
   ]
  },
  {
   "cell_type": "code",
   "execution_count": 71,
   "metadata": {},
   "outputs": [
    {
     "name": "stdout",
     "output_type": "stream",
     "text": [
      "{'a': 8, 'about': 1, 'all': 1, 'although': 3, 'and': 23, 'are': 1, 'at': 1, 'baby': 14, 'backseat': 1, 'bag': 1, 'bar': 1, 'be': 16, 'bedsheets': 3, 'begin': 1, 'best': 1, 'body': 17, 'boy': 2, 'brand': 6, 'can': 1, 'chance': 1, 'club': 1, 'come': 37, 'conversation': 1, 'crazy': 2, 'dance': 1, 'date': 1, 'day': 6, 'discovering': 6, 'do': 3, 'doing': 2, \"don't\": 2, 'drinking': 1, 'driver': 1, 'eat': 1, 'every': 6, 'falling': 3, 'family': 1, 'fast': 1, 'fill': 2, 'find': 1, 'first': 1, 'follow': 6, 'for': 3, 'friends': 1, 'get': 1, 'girl': 2, 'give': 1, 'go': 2, 'going': 1, 'grab': 2, 'hand': 1, 'handmade': 2, 'heart': 3, 'hours': 2, 'how': 1, 'i': 6, \"i'll\": 1, \"i'm\": 23, 'in': 27, 'is': 5, \"isn't\": 1, 'it': 1, 'jukebox': 1, 'just': 1, 'kiss': 1, 'know': 2, 'last': 3, 'lead': 6, 'leave': 1, 'let': 1, \"let's\": 2, 'like': 10, 'love': 25, 'lover': 1, 'magnet': 3, 'make': 1, 'man': 1, 'may': 2, 'me': 10, 'mind': 2, 'much': 2, 'my': 33, 'new': 6, 'night': 3, 'not': 2, 'now': 11, 'of': 6, 'okay': 1, 'on': 40, 'one': 1, 'our': 1, 'out': 1, 'over': 1, 'place': 1, 'plate': 1, 'play': 1, 'pull': 3, 'push': 3, 'put': 3, 'radio': 1, 'room': 3, 'say': 2, 'shape': 6, 'shots': 1, 'singing': 2, 'slow': 1, 'smell': 3, 'so': 2, 'somebody': 2, 'something': 6, 'sour': 1, 'start': 2, 'stop': 1, 'story': 1, 'sweet': 1, 'table': 1, 'take': 1, 'talk': 4, 'taxi': 1, 'tell': 1, 'that': 2, 'the': 18, 'then': 3, 'thrifty': 1, 'to': 2, 'too': 5, 'trust': 1, 'up': 3, 'van': 1, 'waist': 2, 'want': 2, 'was': 2, 'we': 7, \"we're\": 1, 'week': 1, 'were': 3, 'where': 1, 'with': 22, 'you': 16, 'your': 21}\n"
     ]
    }
   ],
   "source": [
    "\"\"\"\n",
    "Sort the keys of word_freq ascendingly.\n",
    "\n",
    "Please create a new dictionary called word_freq2 based on word_freq with the keys sorted ascedingly.\n",
    "\n",
    "There are several ways to achieve that goal but many of the ways are beyond what we have covered so far in the course. There is one way that we'll describe employing what you have learned. Please feel free to use this way or any other way you want.\n",
    "\n",
    "    First extract the keys of word_freq and convert it to a list called keys.\n",
    "\n",
    "    Sort the keys list.\n",
    "\n",
    "    Create an empty dictionary word_freq2.\n",
    "\n",
    "    Use a FOR loop to iterate each value in keys. For each key iterated, find the corresponding value in word_freq and insert the key-value pair to word_freq2.\n",
    "\n",
    "\"\"\"\n",
    "\n",
    "keys=list(word_freq.keys())\n",
    "keys.sort()\n",
    "\n",
    "word_freq2={}\n",
    "\n",
    "\n",
    "for k in keys:\n",
    "    word_freq2[k]=word_freq[k]\n",
    "    \n",
    "print(word_freq2)"
   ]
  },
  {
   "cell_type": "code",
   "execution_count": null,
   "metadata": {},
   "outputs": [],
   "source": [
    "lst = []\n",
    "\n",
    "for i in range(10):\n",
    "    lst.append(i)\n",
    "\n",
    "print(lst)"
   ]
  },
  {
   "cell_type": "code",
   "execution_count": 72,
   "metadata": {},
   "outputs": [
    {
     "name": "stdout",
     "output_type": "stream",
     "text": [
      "[0, 1, 2, 3, 4, 5, 6, 7, 8, 9]\n"
     ]
    }
   ],
   "source": [
    "list=[i for i in range(10)]\n",
    "print(list)"
   ]
  },
  {
   "cell_type": "code",
   "execution_count": 78,
   "metadata": {},
   "outputs": [
    {
     "name": "stdout",
     "output_type": "stream",
     "text": [
      "[6, 8, 10]\n"
     ]
    }
   ],
   "source": [
    "lst_lst = [[1,2,3,4,5], [6,7,8], [9,10]]\n",
    "\n",
    "list2=[y for lst in lst_lst if len(lst)<4 for y in lst if y%2 == 0]\n",
    "print(list2)"
   ]
  },
  {
   "cell_type": "code",
   "execution_count": 79,
   "metadata": {},
   "outputs": [
    {
     "name": "stdout",
     "output_type": "stream",
     "text": [
      "[1, 2, 3, 4, 5, 6, 7, 8, 9]\n"
     ]
    }
   ],
   "source": [
    "lst_lst2 = [[1,2,3], [4,5,6], [7,8,9]]\n",
    "list3=[x for lst in lst_lst2 for x in lst]\n",
    "print(list3)"
   ]
  },
  {
   "cell_type": "code",
   "execution_count": 80,
   "metadata": {},
   "outputs": [],
   "source": [
    "import os\n",
    "import numpy as np\n",
    "import pandas as pd"
   ]
  },
  {
   "cell_type": "code",
   "execution_count": 81,
   "metadata": {},
   "outputs": [
    {
     "name": "stdout",
     "output_type": "stream",
     "text": [
      "[0, 1, 2, 3, 4, 5, 6, 7, 8, 9, 10, 11, 12, 13, 14, 15, 16, 17, 18, 19, 20, 21, 22, 23, 24, 25, 26, 27, 28, 29, 30, 31, 32, 33, 34, 35, 36, 37, 38, 39, 40, 41, 42, 43, 44, 45, 46, 47, 48, 49, 50]\n"
     ]
    }
   ],
   "source": [
    "lst=[i for i in range (51)]\n",
    "print(lst)"
   ]
  },
  {
   "cell_type": "code",
   "execution_count": 83,
   "metadata": {},
   "outputs": [
    {
     "name": "stdout",
     "output_type": "stream",
     "text": [
      "[47, 49, 51, 53, 55, 57, 59, 61, 63, 65, 67, 69, 71, 73, 75, 77, 79, 81, 83, 85, 87, 89, 91, 93, 95]\n"
     ]
    }
   ],
   "source": [
    "lst2=[i for i in range (47,97)if i % 2 != 0]\n",
    "print(lst2)"
   ]
  },
  {
   "cell_type": "code",
   "execution_count": 88,
   "metadata": {},
   "outputs": [],
   "source": [
    "\n",
    "\n",
    "a = np.array([[0.84062117, 0.48006452, 0.7876326 , 0.77109654],\n",
    "       [0.44409793, 0.09014516, 0.81835917, 0.87645456],\n",
    "       [0.7066597 , 0.09610873, 0.41247947, 0.57433389],\n",
    "       [0.29960807, 0.42315023, 0.34452557, 0.4751035 ],\n",
    "       [0.17003563, 0.46843998, 0.92796258, 0.69814654],\n",
    "       [0.41290051, 0.19561071, 0.16284783, 0.97016248],\n",
    "       [0.71725408, 0.87702738, 0.31244595, 0.76615487],\n",
    "       [0.20754036, 0.57871812, 0.07214068, 0.40356048],\n",
    "       [0.12149553, 0.53222417, 0.9976855 , 0.12536346],\n",
    "       [0.80930099, 0.50962849, 0.94555126, 0.33364763]])\n",
    "\n"
   ]
  },
  {
   "cell_type": "code",
   "execution_count": 95,
   "metadata": {},
   "outputs": [
    {
     "name": "stdout",
     "output_type": "stream",
     "text": [
      "[0.84062117,\n",
      " 0.7876326,\n",
      " 0.77109654,\n",
      " 0.81835917,\n",
      " 0.87645456,\n",
      " 0.7066597,\n",
      " 0.57433389,\n",
      " 0.92796258,\n",
      " 0.69814654,\n",
      " 0.97016248,\n",
      " 0.71725408,\n",
      " 0.87702738,\n",
      " 0.76615487,\n",
      " 0.57871812,\n",
      " 0.53222417,\n",
      " 0.9976855,\n",
      " 0.80930099,\n",
      " 0.50962849,\n",
      " 0.94555126]\n"
     ]
    }
   ],
   "source": [
    "lst3=[i for s in a for i in s if i > 0.5]\n",
    "import pprint as pp\n",
    "pp.pprint(lst3)"
   ]
  },
  {
   "cell_type": "code",
   "execution_count": 96,
   "metadata": {},
   "outputs": [],
   "source": [
    "b = np.array([[[0.55867166, 0.06210792, 0.08147297],\n",
    "        [0.82579068, 0.91512478, 0.06833034]],\n",
    "\n",
    "       [[0.05440634, 0.65857693, 0.30296619],\n",
    "        [0.06769833, 0.96031863, 0.51293743]],\n",
    "\n",
    "       [[0.09143215, 0.71893382, 0.45850679],\n",
    "        [0.58256464, 0.59005654, 0.56266457]],\n",
    "\n",
    "       [[0.71600294, 0.87392666, 0.11434044],\n",
    "        [0.8694668 , 0.65669313, 0.10708681]],\n",
    "\n",
    "       [[0.07529684, 0.46470767, 0.47984544],\n",
    "        [0.65368638, 0.14901286, 0.23760688]]])"
   ]
  },
  {
   "cell_type": "code",
   "execution_count": 101,
   "metadata": {},
   "outputs": [
    {
     "name": "stdout",
     "output_type": "stream",
     "text": [
      "[0.08147297, 0.06833034, 0.30296619, 0.45850679, 0.11434044, 0.10708681, 0.47984544, 0.23760688]\n"
     ]
    }
   ],
   "source": [
    "d=[s[-1] for m in b for s in m if s[-1]<= 0.5]\n",
    "print(d)"
   ]
  },
  {
   "cell_type": "code",
   "execution_count": 102,
   "metadata": {},
   "outputs": [],
   "source": [
    "import os\n",
    "import pandas as pd\n"
   ]
  },
  {
   "cell_type": "code",
   "execution_count": 103,
   "metadata": {},
   "outputs": [
    {
     "name": "stdout",
     "output_type": "stream",
     "text": [
      "['sample_file_0.csv', 'sample_file_1.csv', 'sample_file_2.csv', 'sample_file_3.csv', 'sample_file_4.csv', 'sample_file_5.csv', 'sample_file_6.csv', 'sample_file_7.csv', 'sample_file_8.csv', 'sample_file_9.csv']\n"
     ]
    }
   ],
   "source": [
    "file_list = [f for f in os.listdir('C:/Users/tvpia/Desktop/FORK TA/lab-list-comprehensions/data') if f.endswith('.csv')]    \n",
    "print(file_list)\n",
    "\n"
   ]
  },
  {
   "cell_type": "code",
   "execution_count": 108,
   "metadata": {},
   "outputs": [
    {
     "name": "stdout",
     "output_type": "stream",
     "text": [
      "          0         1         2         3         4         5         6  \\\n",
      "0  0.734751  0.195362  0.734309  0.598184  0.763433  0.263434  0.868066   \n",
      "1  0.772607  0.445391  0.249642  0.787922  0.598583  0.827238  0.624126   \n",
      "2  0.226428  0.268764  0.694262  0.622335  0.063843  0.122683  0.815625   \n",
      "3  0.362748  0.495430  0.113876  0.594149  0.612522  0.625204  0.864050   \n",
      "4  0.033415  0.340433  0.464971  0.363737  0.025815  0.434129  0.415163   \n",
      "0  0.276827  0.260054  0.942397  0.113187  0.781355  0.475740  0.152061   \n",
      "1  0.995885  0.158381  0.244274  0.962163  0.651900  0.930665  0.577190   \n",
      "2  0.641917  0.821055  0.392437  0.782617  0.510762  0.428320  0.017324   \n",
      "3  0.806532  0.569258  0.148175  0.809987  0.459632  0.735762  0.730664   \n",
      "4  0.311185  0.501165  0.365979  0.782807  0.776795  0.797199  0.791946   \n",
      "\n",
      "          7         8         9        10        11        12        13  \\\n",
      "0  0.058092  0.753502  0.587513  0.311608  0.178356  0.182922  0.147631   \n",
      "1  0.601524  0.688753  0.338870  0.081595  0.471474  0.267443  0.453351   \n",
      "2  0.584542  0.032594  0.589775  0.764350  0.650973  0.565705  0.691784   \n",
      "3  0.260279  0.528873  0.168043  0.715929  0.677014  0.175735  0.632370   \n",
      "4  0.892210  0.381701  0.415264  0.790801  0.696930  0.819751  0.944029   \n",
      "0  0.250324  0.147078  0.162984  0.977025  0.509619  0.593212  0.911839   \n",
      "1  0.087914  0.960261  0.580840  0.194616  0.661459  0.674085  0.049326   \n",
      "2  0.680720  0.340412  0.462513  0.785776  0.251949  0.032847  0.995700   \n",
      "3  0.934502  0.080322  0.763502  0.398504  0.027637  0.409665  0.942846   \n",
      "4  0.847157  0.771811  0.233944  0.522344  0.053030  0.208551  0.824354   \n",
      "\n",
      "         14        15        16        17        18        19  \n",
      "0  0.391188  0.816049  0.749068  0.293260  0.937828  0.880858  \n",
      "1  0.800716  0.045749  0.683793  0.389789  0.016787  0.503695  \n",
      "2  0.265223  0.739031  0.560394  0.334802  0.517694  0.646110  \n",
      "3  0.926715  0.085675  0.120525  0.141746  0.771144  0.489660  \n",
      "4  0.869965  0.041723  0.819140  0.676051  0.109349  0.872947  \n",
      "0  0.257645  0.386457  0.696932  0.069162  0.952291  0.286542  \n",
      "1  0.785803  0.315645  0.495355  0.232135  0.549324  0.572232  \n",
      "2  0.816563  0.735692  0.435998  0.430411  0.531757  0.489528  \n",
      "3  0.133256  0.157158  0.929446  0.402791  0.685976  0.246594  \n",
      "4  0.588567  0.604341  0.232964  0.229109  0.022881  0.479022  \n"
     ]
    }
   ],
   "source": [
    "data_sets = [pd.read_csv(os.path.join('C:/Users/tvpia/Desktop/FORK TA/lab-list-comprehensions/data', f)) for f in file_list]\n",
    "data = pd.concat(data_sets, axis=0)\n",
    "print(data.head(n=10))"
   ]
  },
  {
   "cell_type": "code",
   "execution_count": 110,
   "metadata": {},
   "outputs": [
    {
     "name": "stdout",
     "output_type": "stream",
     "text": [
      "['2', '9', '12', '14', '17']\n"
     ]
    }
   ],
   "source": [
    "#selected_columns = [col for col in data._get_numeric_data() if data[col].mean() > 15] median less than 0.48\n",
    "\n",
    "selected_columns=[c for c in data._get_numeric_data() if data[c].median()<0.48]\n",
    "print(selected_columns)"
   ]
  },
  {
   "cell_type": "code",
   "execution_count": 111,
   "metadata": {},
   "outputs": [
    {
     "name": "stdout",
     "output_type": "stream",
     "text": [
      "          0         1         2         3         4         5         6  \\\n",
      "0  0.734751  0.195362  0.734309  0.598184  0.763433  0.263434  0.868066   \n",
      "1  0.772607  0.445391  0.249642  0.787922  0.598583  0.827238  0.624126   \n",
      "2  0.226428  0.268764  0.694262  0.622335  0.063843  0.122683  0.815625   \n",
      "3  0.362748  0.495430  0.113876  0.594149  0.612522  0.625204  0.864050   \n",
      "4  0.033415  0.340433  0.464971  0.363737  0.025815  0.434129  0.415163   \n",
      "0  0.276827  0.260054  0.942397  0.113187  0.781355  0.475740  0.152061   \n",
      "1  0.995885  0.158381  0.244274  0.962163  0.651900  0.930665  0.577190   \n",
      "2  0.641917  0.821055  0.392437  0.782617  0.510762  0.428320  0.017324   \n",
      "3  0.806532  0.569258  0.148175  0.809987  0.459632  0.735762  0.730664   \n",
      "4  0.311185  0.501165  0.365979  0.782807  0.776795  0.797199  0.791946   \n",
      "\n",
      "          7         8         9  ...        11        12        13        14  \\\n",
      "0  0.058092  0.753502  0.587513  ...  0.178356  0.182922  0.147631  0.391188   \n",
      "1  0.601524  0.688753  0.338870  ...  0.471474  0.267443  0.453351  0.800716   \n",
      "2  0.584542  0.032594  0.589775  ...  0.650973  0.565705  0.691784  0.265223   \n",
      "3  0.260279  0.528873  0.168043  ...  0.677014  0.175735  0.632370  0.926715   \n",
      "4  0.892210  0.381701  0.415264  ...  0.696930  0.819751  0.944029  0.869965   \n",
      "0  0.250324  0.147078  0.162984  ...  0.509619  0.593212  0.911839  0.257645   \n",
      "1  0.087914  0.960261  0.580840  ...  0.661459  0.674085  0.049326  0.785803   \n",
      "2  0.680720  0.340412  0.462513  ...  0.251949  0.032847  0.995700  0.816563   \n",
      "3  0.934502  0.080322  0.763502  ...  0.027637  0.409665  0.942846  0.133256   \n",
      "4  0.847157  0.771811  0.233944  ...  0.053030  0.208551  0.824354  0.588567   \n",
      "\n",
      "         15        16        17        18        19        20  \n",
      "0  0.816049  0.749068  0.293260  0.937828  0.880858  0.780858  \n",
      "1  0.045749  0.683793  0.389789  0.016787  0.503695  0.403695  \n",
      "2  0.739031  0.560394  0.334802  0.517694  0.646110  0.546110  \n",
      "3  0.085675  0.120525  0.141746  0.771144  0.489660  0.389660  \n",
      "4  0.041723  0.819140  0.676051  0.109349  0.872947  0.772947  \n",
      "0  0.386457  0.696932  0.069162  0.952291  0.286542  0.186542  \n",
      "1  0.315645  0.495355  0.232135  0.549324  0.572232  0.472232  \n",
      "2  0.735692  0.435998  0.430411  0.531757  0.489528  0.389528  \n",
      "3  0.157158  0.929446  0.402791  0.685976  0.246594  0.146594  \n",
      "4  0.604341  0.232964  0.229109  0.022881  0.479022  0.379022  \n",
      "\n",
      "[10 rows x 21 columns]\n"
     ]
    }
   ],
   "source": [
    "data[\"20\"] = (data[\"19\"] - 0.1)\n",
    "print(data.head(n=10))"
   ]
  },
  {
   "cell_type": "code",
   "execution_count": 114,
   "metadata": {},
   "outputs": [
    {
     "name": "stdout",
     "output_type": "stream",
     "text": [
      "[0.7347510852128797, 0.7343092314001137, 0.7490680818183477, 0.7390312927111312, 0.7159290265157912, 0.7356923324968598, 0.7357618655811269, 0.7306642125209889, 0.7033930409580709, 0.7013619954419494, 0.7396561066717461, 0.7045750112959754, 0.7383982036983279, 0.7178166705957928, 0.7088042362916818, 0.7374449181749492, 0.7264121114538001, 0.7133695725698419, 0.7476323136755818, 0.7268545088531969, 0.7111584953876777, 0.7008930873050235, 0.7209375615129192, 0.7303553716733908, 0.7274869207330491, 0.7025657075988269, 0.7298115760258881, 0.7294980584878026, 0.7215147068185102, 0.7130781095091867, 0.7393833032570581, 0.7258310816144985, 0.7358941798147411, 0.736029494090402, 0.7085098152301276, 0.7472962776291713, 0.7329024831531535, 0.7124169515124726, 0.71223975981198, 0.7365416322783028, 0.7133690799930356, 0.7078738356977186, 0.7032248108904495, 0.7196096371031628, 0.7244863338885654, 0.7321533684342264, 0.7376946446827494, 0.7132714209987683, 0.7023481768180954, 0.7051334608870933, 0.7280006345208285, 0.7150799992177622, 0.7321333453970806, 0.7173964318670598]\n"
     ]
    }
   ],
   "source": [
    "newdata=[d for lst in data.values for d in lst if (d < 0.75 and d > 0.70)]\n",
    "print(newdata)"
   ]
  },
  {
   "cell_type": "code",
   "execution_count": 115,
   "metadata": {},
   "outputs": [],
   "source": [
    "str_list = ['Durante', 'un', 'tiempo', 'no', 'estuvo', 'segura', 'de', 'si', 'su', 'marido', 'era', 'su', 'marido']"
   ]
  },
  {
   "cell_type": "code",
   "execution_count": 117,
   "metadata": {},
   "outputs": [
    {
     "data": {
      "text/plain": [
       "'Durante un tiempo no estuvo segura de si su marido era su marido.'"
      ]
     },
     "execution_count": 117,
     "metadata": {},
     "output_type": "execute_result"
    }
   ],
   "source": [
    "\" \".join(str_list).rstrip()+\".\""
   ]
  },
  {
   "cell_type": "code",
   "execution_count": 135,
   "metadata": {},
   "outputs": [
    {
     "data": {
      "text/plain": [
       "'bananas, bread, brownie mix, broccoli.'"
      ]
     },
     "execution_count": 135,
     "metadata": {},
     "output_type": "execute_result"
    }
   ],
   "source": [
    "food_list = ['Bananas', 'Chocolate', 'bread', 'diapers', 'Ice Cream', 'Brownie Mix', 'broccoli']\n",
    "#Start the list with the string Grocery list: and include a comma and a space between each item except for the last one. \n",
    "#Include a period at the end.\n",
    "#Only include foods in the list that start with the letter 'b' and ensure all foods are lower case.\n",
    "\n",
    "food_list2=[f.lower() for f in food_list]\n",
    "food_list2[0]=(\"Grocery list\")\n",
    "food_list2[1]=\"bananas\"\n",
    "food3=[f for f in food_list2 if f.startswith(\"b\")]\n",
    "\", \".join(food3)+\".\"\n",
    "\n"
   ]
  },
  {
   "cell_type": "code",
   "execution_count": 136,
   "metadata": {},
   "outputs": [],
   "source": [
    "poem = \"\"\"Some say the world will end in fire,\n",
    "Some say in ice.\n",
    "From what I’ve tasted of desire\n",
    "I hold with those who favor fire.\n",
    "But if it had to perish twice,\n",
    "I think I know enough of hate\n",
    "To say that for destruction ice\n",
    "Is also great\n",
    "And would suffice.\"\"\"\n"
   ]
  },
  {
   "cell_type": "code",
   "execution_count": 139,
   "metadata": {},
   "outputs": [
    {
     "name": "stdout",
     "output_type": "stream",
     "text": [
      "['S', 'o', 'm', 'e', '', 's', 'a', 'y', '', 't', 'h', 'e', '', 'w', 'o', 'r', 'l', 'd', '', 'w', 'i', 'l', 'l', '', 'e', 'n', 'd', '', 'i', 'n', '', 'f', 'i', 'r', 'e', '', '', 'S', 'o', 'm', 'e', '', 's', 'a', 'y', '', 'i', 'n', '', 'i', 'c', 'e', '', '', 'F', 'r', 'o', 'm', '', 'w', 'h', 'a', 't', '', 'I', '’', 'v', 'e', '', 't', 'a', 's', 't', 'e', 'd', '', 'o', 'f', '', 'd', 'e', 's', 'i', 'r', 'e', '', 'I', '', 'h', 'o', 'l', 'd', '', 'w', 'i', 't', 'h', '', 't', 'h', 'o', 's', 'e', '', 'w', 'h', 'o', '', 'f', 'a', 'v', 'o', 'r', '', 'f', 'i', 'r', 'e', '', '', 'B', 'u', 't', '', 'i', 'f', '', 'i', 't', '', 'h', 'a', 'd', '', 't', 'o', '', 'p', 'e', 'r', 'i', 's', 'h', '', 't', 'w', 'i', 'c', 'e', '', '', 'I', '', 't', 'h', 'i', 'n', 'k', '', 'I', '', 'k', 'n', 'o', 'w', '', 'e', 'n', 'o', 'u', 'g', 'h', '', 'o', 'f', '', 'h', 'a', 't', 'e', '', 'T', 'o', '', 's', 'a', 'y', '', 't', 'h', 'a', 't', '', 'f', 'o', 'r', '', 'd', 'e', 's', 't', 'r', 'u', 'c', 't', 'i', 'o', 'n', '', 'i', 'c', 'e', '', 'I', 's', '', 'a', 'l', 's', 'o', '', 'g', 'r', 'e', 'a', 't', '', 'A', 'n', 'd', '', 'w', 'o', 'u', 'l', 'd', '', 's', 'u', 'f', 'f', 'i', 'c', 'e', '']\n"
     ]
    }
   ],
   "source": [
    "poem.split()\n",
    " #Strip the periods, line breaks and commas from the te\n",
    "poem2=[w.replace(\"\\n\",\"\").replace(\".\",\"\").replace(\" \",\"\").replace(\",\",\"\") for w in poem]\n",
    "print(poem2)"
   ]
  },
  {
   "cell_type": "code",
   "execution_count": 141,
   "metadata": {},
   "outputs": [
    {
     "name": "stdout",
     "output_type": "stream",
     "text": [
      "{'S': 2, 'o': 18, 'm': 3, 'e': 20, ' ': 42, 's': 11, 'a': 11, 'y': 3, 't': 17, 'h': 12, 'w': 8, 'r': 10, 'l': 6, 'd': 9, 'i': 16, 'n': 8, 'f': 9, ',': 2, '\\n': 8, 'c': 5, '.': 3, 'F': 1, 'I': 5, '’': 1, 'v': 2, 'B': 1, 'u': 5, 'p': 1, 'k': 2, 'g': 2, 'T': 1, 'A': 1}\n"
     ]
    }
   ],
   "source": [
    "dic={}\n",
    "for word in poem:\n",
    "    dic[word]=poem.count(word)\n",
    "print(dic)"
   ]
  },
  {
   "cell_type": "code",
   "execution_count": 148,
   "metadata": {},
   "outputs": [],
   "source": [
    "data = ['123abc', 'abc123', 'JohnSmith1', 'ABBY4', 'JANE']"
   ]
  },
  {
   "cell_type": "code",
   "execution_count": 154,
   "metadata": {},
   "outputs": [
    {
     "name": "stdout",
     "output_type": "stream",
     "text": [
      "123abc\n",
      "abc123\n",
      "JohnSmith1\n",
      "ABBY4\n"
     ]
    }
   ],
   "source": [
    "# In the cell below, filter the list provided and return all elements of the list containing a number.\n",
    "#To filter the list, use the re.search function. Check if the function does not return None.\n",
    "\n",
    "import re\n",
    "\n",
    "for d in data:\n",
    "    if re.search(\"\\d\",d):\n",
    "                 print(d)\n"
   ]
  },
  {
   "cell_type": "code",
   "execution_count": null,
   "metadata": {},
   "outputs": [],
   "source": [
    "import numpy as np\n",
    "import random"
   ]
  },
  {
   "cell_type": "code",
   "execution_count": null,
   "metadata": {},
   "outputs": [],
   "source": [
    "array1=np.random.rand(2,3,5)\n",
    "print(array1)"
   ]
  },
  {
   "cell_type": "code",
   "execution_count": null,
   "metadata": {},
   "outputs": [],
   "source": []
  },
  {
   "cell_type": "code",
   "execution_count": null,
   "metadata": {},
   "outputs": [],
   "source": []
  },
  {
   "cell_type": "code",
   "execution_count": null,
   "metadata": {},
   "outputs": [],
   "source": []
  },
  {
   "cell_type": "code",
   "execution_count": null,
   "metadata": {},
   "outputs": [],
   "source": []
  },
  {
   "cell_type": "code",
   "execution_count": null,
   "metadata": {},
   "outputs": [],
   "source": []
  },
  {
   "cell_type": "code",
   "execution_count": null,
   "metadata": {},
   "outputs": [],
   "source": []
  }
 ],
 "metadata": {
  "kernelspec": {
   "display_name": "Python 3",
   "language": "python",
   "name": "python3"
  },
  "language_info": {
   "codemirror_mode": {
    "name": "ipython",
    "version": 3
   },
   "file_extension": ".py",
   "mimetype": "text/x-python",
   "name": "python",
   "nbconvert_exporter": "python",
   "pygments_lexer": "ipython3",
   "version": "3.7.4"
  }
 },
 "nbformat": 4,
 "nbformat_minor": 2
}
