{
 "cells": [
  {
   "cell_type": "code",
   "execution_count": 1,
   "metadata": {},
   "outputs": [],
   "source": [
    "import numpy as np\n",
    "import random"
   ]
  },
  {
   "cell_type": "code",
   "execution_count": 2,
   "metadata": {},
   "outputs": [
    {
     "name": "stdout",
     "output_type": "stream",
     "text": [
      "[[[0.0218989  0.8501336  0.73714034 0.70336949 0.02074336]\n",
      "  [0.43227665 0.77993666 0.20988175 0.89559377 0.70141366]\n",
      "  [0.56864494 0.97364023 0.55988105 0.82008983 0.89036842]]\n",
      "\n",
      " [[0.12596015 0.56559029 0.39366209 0.75415269 0.5126871 ]\n",
      "  [0.38610168 0.09660863 0.72759761 0.95595106 0.59771729]\n",
      "  [0.84085928 0.5544991  0.47093548 0.48907183 0.76878434]]]\n"
     ]
    }
   ],
   "source": [
    "array1=np.random.rand(2,3,5)\n",
    "print(array1)"
   ]
  },
  {
   "cell_type": "code",
   "execution_count": 6,
   "metadata": {},
   "outputs": [
    {
     "name": "stdout",
     "output_type": "stream",
     "text": [
      "[[[9 4 9 3 1]\n",
      "  [7 8 7 2 0]\n",
      "  [6 5 7 4 4]]\n",
      "\n",
      " [[3 4 0 1 1]\n",
      "  [1 0 2 6 0]\n",
      "  [5 3 4 0 2]]]\n"
     ]
    }
   ],
   "source": [
    "array2=np.random.randint(0,10,size=(2,3,5))\n",
    "print(array2)"
   ]
  },
  {
   "cell_type": "code",
   "execution_count": 9,
   "metadata": {},
   "outputs": [
    {
     "name": "stdout",
     "output_type": "stream",
     "text": [
      "[[[1. 1. 1.]\n",
      "  [1. 1. 1.]]\n",
      "\n",
      " [[1. 1. 1.]\n",
      "  [1. 1. 1.]]\n",
      "\n",
      " [[1. 1. 1.]\n",
      "  [1. 1. 1.]]\n",
      "\n",
      " [[1. 1. 1.]\n",
      "  [1. 1. 1.]]\n",
      "\n",
      " [[1. 1. 1.]\n",
      "  [1. 1. 1.]]]\n"
     ]
    }
   ],
   "source": [
    "b=np.ones((5,2,3))\n",
    "print(b)"
   ]
  },
  {
   "cell_type": "code",
   "execution_count": 13,
   "metadata": {},
   "outputs": [
    {
     "name": "stdout",
     "output_type": "stream",
     "text": [
      "30 30\n"
     ]
    }
   ],
   "source": [
    "print(array1.size,b.size)\n"
   ]
  },
  {
   "cell_type": "code",
   "execution_count": 21,
   "metadata": {},
   "outputs": [],
   "source": [
    "c=b.reshape((2,3,5))"
   ]
  },
  {
   "cell_type": "code",
   "execution_count": 22,
   "metadata": {},
   "outputs": [],
   "source": [
    "d=array1+c"
   ]
  },
  {
   "cell_type": "code",
   "execution_count": 24,
   "metadata": {},
   "outputs": [
    {
     "name": "stdout",
     "output_type": "stream",
     "text": [
      "[[[0.0218989  0.8501336  0.73714034 0.70336949 0.02074336]\n",
      "  [0.43227665 0.77993666 0.20988175 0.89559377 0.70141366]\n",
      "  [0.56864494 0.97364023 0.55988105 0.82008983 0.89036842]]\n",
      "\n",
      " [[0.12596015 0.56559029 0.39366209 0.75415269 0.5126871 ]\n",
      "  [0.38610168 0.09660863 0.72759761 0.95595106 0.59771729]\n",
      "  [0.84085928 0.5544991  0.47093548 0.48907183 0.76878434]]]\n"
     ]
    }
   ],
   "source": [
    "print(array1)"
   ]
  },
  {
   "cell_type": "code",
   "execution_count": 25,
   "metadata": {},
   "outputs": [
    {
     "name": "stdout",
     "output_type": "stream",
     "text": [
      "[[[1.0218989  1.8501336  1.73714034 1.70336949 1.02074336]\n",
      "  [1.43227665 1.77993666 1.20988175 1.89559377 1.70141366]\n",
      "  [1.56864494 1.97364023 1.55988105 1.82008983 1.89036842]]\n",
      "\n",
      " [[1.12596015 1.56559029 1.39366209 1.75415269 1.5126871 ]\n",
      "  [1.38610168 1.09660863 1.72759761 1.95595106 1.59771729]\n",
      "  [1.84085928 1.5544991  1.47093548 1.48907183 1.76878434]]]\n"
     ]
    }
   ],
   "source": [
    "print(d)"
   ]
  },
  {
   "cell_type": "code",
   "execution_count": 26,
   "metadata": {},
   "outputs": [],
   "source": [
    "e=array1*d"
   ]
  },
  {
   "cell_type": "code",
   "execution_count": 27,
   "metadata": {},
   "outputs": [
    {
     "name": "stdout",
     "output_type": "stream",
     "text": [
      "1.0207433563866606\n",
      "1.9736402280226502\n",
      "1.5801730418512558\n"
     ]
    }
   ],
   "source": [
    "d_min=d.min()\n",
    "print(d_min)\n",
    "d_max=d.max()\n",
    "print(d_max)\n",
    "d_mean=d.mean()\n",
    "print(d_mean)"
   ]
  },
  {
   "cell_type": "code",
   "execution_count": 28,
   "metadata": {},
   "outputs": [],
   "source": [
    "f=np.empty(shape=[2,3,5],dtype=int)"
   ]
  },
  {
   "cell_type": "code",
   "execution_count": 29,
   "metadata": {},
   "outputs": [
    {
     "name": "stdout",
     "output_type": "stream",
     "text": [
      "[[[7 0 1 2 4]\n",
      "  [2 9 4 1 6]\n",
      "  [7 4 9 1 3]]\n",
      "\n",
      " [[1 5 5 1 9]\n",
      "  [9 7 4 8 8]\n",
      "  [3 9 4 9 9]]]\n"
     ]
    }
   ],
   "source": [
    "print(f)"
   ]
  },
  {
   "cell_type": "code",
   "execution_count": 34,
   "metadata": {},
   "outputs": [
    {
     "name": "stdout",
     "output_type": "stream",
     "text": [
      "[[[ 25  75  75  75   0]\n",
      "  [ 25  75  25  75  75]\n",
      "  [ 25 100  25  75  75]]\n",
      "\n",
      " [[ 25  25  25  75  25]\n",
      "  [ 25  25  75  75  75]\n",
      "  [ 75  25  25  25  75]]]\n"
     ]
    }
   ],
   "source": [
    "\"\"\"For each value in d, if it's larger than d_min but smaller than d_mean, assign 25 to the corresponding value in f\n",
    "If a value in d is larger than d_mean but smaller than d_max, assign 75 to the corresponding value in f. \n",
    "If a value equals to d_mean, assign 50 to the corresponding value in f. Assign 0 to the corresponding value(s) in f\n",
    "for d_min in d. Assign 100 to the corresponding value(s) in f for d_max in d. In the end, f should have only the \n",
    "following values: 0, 25, 50, 75, and 100.\n",
    "\"\"\"\n",
    "\n",
    "for x in range(d.shape[0]):\n",
    "    for y in range (d.shape[1]):\n",
    "        for z in range (d.shape[2]):\n",
    "            if d[x,y,z] > d_min and d[x,y,z] < d_mean:\n",
    "                f[x,y,z]=25\n",
    "            elif d[x,y,z]> d_mean and d[x,y,z] < d_max:\n",
    "                f[x,y,z]=75\n",
    "            elif d[x,y,z]== d_mean:\n",
    "                f[x,y,z]=50\n",
    "            elif d[x,y,z]== d_min:\n",
    "                f[x,y,z]= 0\n",
    "            else:\n",
    "                f[x,y,z]=100\n",
    "                \n",
    "print(f)"
   ]
  },
  {
   "cell_type": "code",
   "execution_count": null,
   "metadata": {},
   "outputs": [],
   "source": []
  }
 ],
 "metadata": {
  "kernelspec": {
   "display_name": "Python 3",
   "language": "python",
   "name": "python3"
  },
  "language_info": {
   "codemirror_mode": {
    "name": "ipython",
    "version": 3
   },
   "file_extension": ".py",
   "mimetype": "text/x-python",
   "name": "python",
   "nbconvert_exporter": "python",
   "pygments_lexer": "ipython3",
   "version": "3.7.4"
  }
 },
 "nbformat": 4,
 "nbformat_minor": 2
}
